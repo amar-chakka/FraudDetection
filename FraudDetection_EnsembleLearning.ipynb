{
 "cells": [
  {
   "cell_type": "markdown",
   "metadata": {},
   "source": [
    "<center><img src=\"https://github.com/insaid2018/Term-1/blob/master/Images/INSAID_Full%20Logo.png?raw=true\" width=\"240\" height=\"100\" /></center>\n",
    "\n",
    "# <center><b>ML Advanced - Term Project<b></center>"
   ]
  },
  {
   "cell_type": "markdown",
   "metadata": {},
   "source": [
    "---\n",
    "# **Table of Contents**\n",
    "---\n",
    "\n",
    "**1.** [**Introduction**](#Section1)<br>\n",
    "**2.** [**Problem Statement**](#Section2)<br>\n",
    "**3.** [**Installing & Importing Libraries**](#Section3)<br>\n",
    "  - **3.1** [**Installing Libraries**](#Section31)\n",
    "  - **3.2** [**Importing Libraries**](#Section32)\n",
    "\n",
    "**4.** [**Data Acquisition & Description**](#Section4)<br>\n",
    "  - **4.1** [**Data Description**](#Section41)\n",
    "  - **4.2** [**Data Information**](#Section42)\n",
    "\n",
    "**5.** [**Data Pre-processing**](#Section5)<br>\n",
    "  - **5.1** [**Pre-Profiling Report**](#Section51)<br>\n",
    "\n",
    "**6.** [**Post Data Processing & Feature Selection**](#Section6)<br>\n",
    "  - **6.1** [**Feature Selection**](#Section61)<br>\n",
    "  - **6.2** [**Feature Scaling**](#Section62)<br>\n",
    "  - **6.3** [**Data Preparation**](#Section63)<br>\n",
    "\n",
    "**7.** [**Model Development & Evaluation**](#Section7)<br>\n",
    "**8.** [**Conclusion**](#Section8)<br>"
   ]
  },
  {
   "cell_type": "markdown",
   "metadata": {},
   "source": [
    "<a name = Section1></a>\n",
    "# **1. Introduction**\n",
    "\n",
    "<center><img src=\"data:image/jpeg;base64,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\"></center>\n"
   ]
  },
  {
   "cell_type": "markdown",
   "metadata": {},
   "source": [
    "---\n",
    "<a name = Section2></a>\n",
    "# **2. Problem Statement**\n",
    "---\n",
    "\n",
    "\n",
    "**<h4>Scenario:</h4>**\n",
    "\n",
    "- This dataset comprises, the features are scaled and the names of the features are not shown due to privacy reasons. Nevertheless, we can still analyze some important aspects of the dataset. Let's start!\n",
    "\n",
    "- We will use various predictive models to see how accurate they are in detecting whether a transaction is a normal payment or a fraud.\n",
    "\n",
    "#### Our Goals:\n",
    "- Understand the distribution of the data that was provided to us.\n",
    "- Understand common mistaked made with imbalanced datasets.\n",
    "- Create a 50/50 sub-dataframe ratio of \"Fraud\" and \"Non-Fraud\" transactions.\n",
    "- Determine the Classifiers we are going to use and decide which one has a higher accuracy.\n",
    "- Create an ensemble classifier and compare the accuracy to our best classifier."
   ]
  },
  {
   "cell_type": "markdown",
   "metadata": {},
   "source": [
    "---\n",
    "<a name = Section3></a>\n",
    "# **3. Installing & Importing Libraries**\n",
    "---"
   ]
  },
  {
   "cell_type": "markdown",
   "metadata": {},
   "source": [
    "<a name = Section31></a>\n",
    "### **3.1 Installing Libraries**"
   ]
  },
  {
   "cell_type": "code",
   "execution_count": 46,
   "metadata": {
    "collapsed": true
   },
   "outputs": [
    {
     "name": "stdout",
     "output_type": "stream",
     "text": [
      "Collecting imblearn\n",
      "  Downloading imblearn-0.0-py2.py3-none-any.whl (1.9 kB)\n",
      "Collecting imbalanced-learn\n",
      "  Using cached imbalanced_learn-0.7.0-py3-none-any.whl (167 kB)\n",
      "Requirement already satisfied: scipy>=0.19.1 in c:\\users\\amarc\\anaconda3\\lib\\site-packages (from imbalanced-learn->imblearn) (1.4.1)\n",
      "Requirement already satisfied: scikit-learn>=0.23 in c:\\users\\amarc\\anaconda3\\lib\\site-packages (from imbalanced-learn->imblearn) (0.24.1)\n",
      "Requirement already satisfied: numpy>=1.13.3 in c:\\users\\amarc\\anaconda3\\lib\\site-packages (from imbalanced-learn->imblearn) (1.18.1)\n",
      "Requirement already satisfied: joblib>=0.11 in c:\\users\\amarc\\anaconda3\\lib\\site-packages (from imbalanced-learn->imblearn) (0.14.1)\n",
      "Requirement already satisfied: threadpoolctl>=2.0.0 in c:\\users\\amarc\\anaconda3\\lib\\site-packages (from scikit-learn>=0.23->imbalanced-learn->imblearn) (2.1.0)\n",
      "Installing collected packages: imbalanced-learn, imblearn\n",
      "Successfully installed imbalanced-learn-0.7.0 imblearn-0.0\n"
     ]
    }
   ],
   "source": [
    "!pip install imblearn"
   ]
  },
  {
   "cell_type": "markdown",
   "metadata": {},
   "source": [
    "<a name = Section32></a>\n",
    "### **3.2 Importing Libraries**"
   ]
  },
  {
   "cell_type": "code",
   "execution_count": 1,
   "metadata": {},
   "outputs": [],
   "source": [
    "# Classifier Libraries\n",
    "from sklearn.tree import DecisionTreeClassifier\n",
    "import collections\n",
    "\n",
    "#-------------------------------------------------------------------------------------------------------------------------------\n",
    "import pandas as pd                                                 # Importing for panel data analysis\n",
    "from pandas_profiling import ProfileReport                          # Import Pandas Profiling (To generate Univariate Analysis) \n",
    "pd.set_option('display.max_columns', None)                          # Unfolding hidden features if the cardinality is high      \n",
    "pd.set_option('display.max_colwidth', None)                         # Unfolding the max feature width for better clearity      \n",
    "pd.set_option('display.max_rows', None)                             # Unfolding hidden data points if the cardinality is high\n",
    "pd.set_option('mode.chained_assignment', None)                      # Removing restriction over chained assignments operations\n",
    "pd.set_option('display.float_format', lambda x: '%.2f' % x)         # To suppress scientific notation over exponential values\n",
    "#-------------------------------------------------------------------------------------------------------------------------------\n",
    "import numpy as np                                                  # Importing package numpys (For Numerical Python)\n",
    "#-------------------------------------------------------------------------------------------------------------------------------\n",
    "from sklearn.manifold import TSNE\n",
    "import matplotlib.patches as mpatches\n",
    "import time\n",
    "import matplotlib.pyplot as plt                                     # Importing pyplot interface using matplotlib                                              \n",
    "import seaborn as sns                                               # Importin seaborm library for interactive visualization\n",
    "%matplotlib inline\n",
    "#-------------------------------------------------------------------------------------------------------------------------------\n",
    "from sklearn.feature_selection import SelectFromModel               # To perform Feature Selection over model\n",
    "from yellowbrick.model_selection import FeatureImportances          # To retrieve Feature Importances over model\n",
    "#-------------------------------------------------------------------------------------------------------------------------------\n",
    "from sklearn.model_selection import train_test_split                # To perform train, test and split over the data\n",
    "from sklearn.svm import SVC                                         # To perform modeling using SVC\n",
    "from sklearn.linear_model import LogisticRegression                 # To perform modeling using LogisticRegression\n",
    "from sklearn.ensemble import RandomForestClassifier                 # To perform modeling using RandomForestClassifier\n",
    "from sklearn.neighbors import KNeighborsClassifier                  # To perform modeling using KNeighborsClassifier\n",
    "from sklearn.ensemble import GradientBoostingClassifier             # To perform modeling using GradientBoostingClassifier\n",
    "from sklearn.ensemble import StackingClassifier                     # To perform modeling using StackingClassifier\n",
    "#-------------------------------------------------------------------------------------------------------------------------------\n",
    "import warnings                                                     # Importing warning to disable runtime warnings\n",
    "warnings.filterwarnings(\"ignore\")                                   # Warnings will appear only once\n",
    "\n",
    "\n",
    "\n",
    "# Other Libraries\n",
    "from imblearn.pipeline import make_pipeline as imbalanced_make_pipeline\n",
    "from imblearn.over_sampling import SMOTE\n",
    "from imblearn.under_sampling import NearMiss\n",
    "from imblearn.metrics import classification_report_imbalanced\n",
    "from sklearn.metrics import precision_score, recall_score, f1_score, roc_auc_score, accuracy_score, classification_report\n",
    "from collections import Counter\n",
    "from sklearn.model_selection import KFold, StratifiedKFold"
   ]
  },
  {
   "cell_type": "markdown",
   "metadata": {},
   "source": [
    "---\n",
    "<a name = Section4></a>\n",
    "# **4. Data Acquisition & Description**\n",
    "---"
   ]
  },
  {
   "cell_type": "code",
   "execution_count": 2,
   "metadata": {},
   "outputs": [],
   "source": [
    "df = pd.read_csv('D:\\DS\\MLAdvanced_TermProject_EnsembeLearning\\creditcard.csv')"
   ]
  },
  {
   "cell_type": "code",
   "execution_count": 3,
   "metadata": {},
   "outputs": [
    {
     "data": {
      "text/html": [
       "<div>\n",
       "<style scoped>\n",
       "    .dataframe tbody tr th:only-of-type {\n",
       "        vertical-align: middle;\n",
       "    }\n",
       "\n",
       "    .dataframe tbody tr th {\n",
       "        vertical-align: top;\n",
       "    }\n",
       "\n",
       "    .dataframe thead th {\n",
       "        text-align: right;\n",
       "    }\n",
       "</style>\n",
       "<table border=\"1\" class=\"dataframe\">\n",
       "  <thead>\n",
       "    <tr style=\"text-align: right;\">\n",
       "      <th></th>\n",
       "      <th>Time</th>\n",
       "      <th>V1</th>\n",
       "      <th>V2</th>\n",
       "      <th>V3</th>\n",
       "      <th>V4</th>\n",
       "      <th>V5</th>\n",
       "      <th>V6</th>\n",
       "      <th>V7</th>\n",
       "      <th>V8</th>\n",
       "      <th>V9</th>\n",
       "      <th>V10</th>\n",
       "      <th>V11</th>\n",
       "      <th>V12</th>\n",
       "      <th>V13</th>\n",
       "      <th>V14</th>\n",
       "      <th>V15</th>\n",
       "      <th>V16</th>\n",
       "      <th>V17</th>\n",
       "      <th>V18</th>\n",
       "      <th>V19</th>\n",
       "      <th>V20</th>\n",
       "      <th>V21</th>\n",
       "      <th>V22</th>\n",
       "      <th>V23</th>\n",
       "      <th>V24</th>\n",
       "      <th>V25</th>\n",
       "      <th>V26</th>\n",
       "      <th>V27</th>\n",
       "      <th>V28</th>\n",
       "      <th>Amount</th>\n",
       "      <th>Class</th>\n",
       "    </tr>\n",
       "  </thead>\n",
       "  <tbody>\n",
       "    <tr>\n",
       "      <th>0</th>\n",
       "      <td>0.00</td>\n",
       "      <td>-1.36</td>\n",
       "      <td>-0.07</td>\n",
       "      <td>2.54</td>\n",
       "      <td>1.38</td>\n",
       "      <td>-0.34</td>\n",
       "      <td>0.46</td>\n",
       "      <td>0.24</td>\n",
       "      <td>0.10</td>\n",
       "      <td>0.36</td>\n",
       "      <td>0.09</td>\n",
       "      <td>-0.55</td>\n",
       "      <td>-0.62</td>\n",
       "      <td>-0.99</td>\n",
       "      <td>-0.31</td>\n",
       "      <td>1.47</td>\n",
       "      <td>-0.47</td>\n",
       "      <td>0.21</td>\n",
       "      <td>0.03</td>\n",
       "      <td>0.40</td>\n",
       "      <td>0.25</td>\n",
       "      <td>-0.02</td>\n",
       "      <td>0.28</td>\n",
       "      <td>-0.11</td>\n",
       "      <td>0.07</td>\n",
       "      <td>0.13</td>\n",
       "      <td>-0.19</td>\n",
       "      <td>0.13</td>\n",
       "      <td>-0.02</td>\n",
       "      <td>149.62</td>\n",
       "      <td>0</td>\n",
       "    </tr>\n",
       "    <tr>\n",
       "      <th>1</th>\n",
       "      <td>0.00</td>\n",
       "      <td>1.19</td>\n",
       "      <td>0.27</td>\n",
       "      <td>0.17</td>\n",
       "      <td>0.45</td>\n",
       "      <td>0.06</td>\n",
       "      <td>-0.08</td>\n",
       "      <td>-0.08</td>\n",
       "      <td>0.09</td>\n",
       "      <td>-0.26</td>\n",
       "      <td>-0.17</td>\n",
       "      <td>1.61</td>\n",
       "      <td>1.07</td>\n",
       "      <td>0.49</td>\n",
       "      <td>-0.14</td>\n",
       "      <td>0.64</td>\n",
       "      <td>0.46</td>\n",
       "      <td>-0.11</td>\n",
       "      <td>-0.18</td>\n",
       "      <td>-0.15</td>\n",
       "      <td>-0.07</td>\n",
       "      <td>-0.23</td>\n",
       "      <td>-0.64</td>\n",
       "      <td>0.10</td>\n",
       "      <td>-0.34</td>\n",
       "      <td>0.17</td>\n",
       "      <td>0.13</td>\n",
       "      <td>-0.01</td>\n",
       "      <td>0.01</td>\n",
       "      <td>2.69</td>\n",
       "      <td>0</td>\n",
       "    </tr>\n",
       "    <tr>\n",
       "      <th>2</th>\n",
       "      <td>1.00</td>\n",
       "      <td>-1.36</td>\n",
       "      <td>-1.34</td>\n",
       "      <td>1.77</td>\n",
       "      <td>0.38</td>\n",
       "      <td>-0.50</td>\n",
       "      <td>1.80</td>\n",
       "      <td>0.79</td>\n",
       "      <td>0.25</td>\n",
       "      <td>-1.51</td>\n",
       "      <td>0.21</td>\n",
       "      <td>0.62</td>\n",
       "      <td>0.07</td>\n",
       "      <td>0.72</td>\n",
       "      <td>-0.17</td>\n",
       "      <td>2.35</td>\n",
       "      <td>-2.89</td>\n",
       "      <td>1.11</td>\n",
       "      <td>-0.12</td>\n",
       "      <td>-2.26</td>\n",
       "      <td>0.52</td>\n",
       "      <td>0.25</td>\n",
       "      <td>0.77</td>\n",
       "      <td>0.91</td>\n",
       "      <td>-0.69</td>\n",
       "      <td>-0.33</td>\n",
       "      <td>-0.14</td>\n",
       "      <td>-0.06</td>\n",
       "      <td>-0.06</td>\n",
       "      <td>378.66</td>\n",
       "      <td>0</td>\n",
       "    </tr>\n",
       "    <tr>\n",
       "      <th>3</th>\n",
       "      <td>1.00</td>\n",
       "      <td>-0.97</td>\n",
       "      <td>-0.19</td>\n",
       "      <td>1.79</td>\n",
       "      <td>-0.86</td>\n",
       "      <td>-0.01</td>\n",
       "      <td>1.25</td>\n",
       "      <td>0.24</td>\n",
       "      <td>0.38</td>\n",
       "      <td>-1.39</td>\n",
       "      <td>-0.05</td>\n",
       "      <td>-0.23</td>\n",
       "      <td>0.18</td>\n",
       "      <td>0.51</td>\n",
       "      <td>-0.29</td>\n",
       "      <td>-0.63</td>\n",
       "      <td>-1.06</td>\n",
       "      <td>-0.68</td>\n",
       "      <td>1.97</td>\n",
       "      <td>-1.23</td>\n",
       "      <td>-0.21</td>\n",
       "      <td>-0.11</td>\n",
       "      <td>0.01</td>\n",
       "      <td>-0.19</td>\n",
       "      <td>-1.18</td>\n",
       "      <td>0.65</td>\n",
       "      <td>-0.22</td>\n",
       "      <td>0.06</td>\n",
       "      <td>0.06</td>\n",
       "      <td>123.50</td>\n",
       "      <td>0</td>\n",
       "    </tr>\n",
       "    <tr>\n",
       "      <th>4</th>\n",
       "      <td>2.00</td>\n",
       "      <td>-1.16</td>\n",
       "      <td>0.88</td>\n",
       "      <td>1.55</td>\n",
       "      <td>0.40</td>\n",
       "      <td>-0.41</td>\n",
       "      <td>0.10</td>\n",
       "      <td>0.59</td>\n",
       "      <td>-0.27</td>\n",
       "      <td>0.82</td>\n",
       "      <td>0.75</td>\n",
       "      <td>-0.82</td>\n",
       "      <td>0.54</td>\n",
       "      <td>1.35</td>\n",
       "      <td>-1.12</td>\n",
       "      <td>0.18</td>\n",
       "      <td>-0.45</td>\n",
       "      <td>-0.24</td>\n",
       "      <td>-0.04</td>\n",
       "      <td>0.80</td>\n",
       "      <td>0.41</td>\n",
       "      <td>-0.01</td>\n",
       "      <td>0.80</td>\n",
       "      <td>-0.14</td>\n",
       "      <td>0.14</td>\n",
       "      <td>-0.21</td>\n",
       "      <td>0.50</td>\n",
       "      <td>0.22</td>\n",
       "      <td>0.22</td>\n",
       "      <td>69.99</td>\n",
       "      <td>0</td>\n",
       "    </tr>\n",
       "  </tbody>\n",
       "</table>\n",
       "</div>"
      ],
      "text/plain": [
       "   Time    V1    V2   V3    V4    V5    V6    V7    V8    V9   V10   V11  \\\n",
       "0  0.00 -1.36 -0.07 2.54  1.38 -0.34  0.46  0.24  0.10  0.36  0.09 -0.55   \n",
       "1  0.00  1.19  0.27 0.17  0.45  0.06 -0.08 -0.08  0.09 -0.26 -0.17  1.61   \n",
       "2  1.00 -1.36 -1.34 1.77  0.38 -0.50  1.80  0.79  0.25 -1.51  0.21  0.62   \n",
       "3  1.00 -0.97 -0.19 1.79 -0.86 -0.01  1.25  0.24  0.38 -1.39 -0.05 -0.23   \n",
       "4  2.00 -1.16  0.88 1.55  0.40 -0.41  0.10  0.59 -0.27  0.82  0.75 -0.82   \n",
       "\n",
       "    V12   V13   V14   V15   V16   V17   V18   V19   V20   V21   V22   V23  \\\n",
       "0 -0.62 -0.99 -0.31  1.47 -0.47  0.21  0.03  0.40  0.25 -0.02  0.28 -0.11   \n",
       "1  1.07  0.49 -0.14  0.64  0.46 -0.11 -0.18 -0.15 -0.07 -0.23 -0.64  0.10   \n",
       "2  0.07  0.72 -0.17  2.35 -2.89  1.11 -0.12 -2.26  0.52  0.25  0.77  0.91   \n",
       "3  0.18  0.51 -0.29 -0.63 -1.06 -0.68  1.97 -1.23 -0.21 -0.11  0.01 -0.19   \n",
       "4  0.54  1.35 -1.12  0.18 -0.45 -0.24 -0.04  0.80  0.41 -0.01  0.80 -0.14   \n",
       "\n",
       "    V24   V25   V26   V27   V28  Amount  Class  \n",
       "0  0.07  0.13 -0.19  0.13 -0.02  149.62      0  \n",
       "1 -0.34  0.17  0.13 -0.01  0.01    2.69      0  \n",
       "2 -0.69 -0.33 -0.14 -0.06 -0.06  378.66      0  \n",
       "3 -1.18  0.65 -0.22  0.06  0.06  123.50      0  \n",
       "4  0.14 -0.21  0.50  0.22  0.22   69.99      0  "
      ]
     },
     "execution_count": 3,
     "metadata": {},
     "output_type": "execute_result"
    }
   ],
   "source": [
    "df.head(5)"
   ]
  },
  {
   "cell_type": "code",
   "execution_count": 4,
   "metadata": {},
   "outputs": [
    {
     "data": {
      "text/plain": [
       "(284807, 31)"
      ]
     },
     "execution_count": 4,
     "metadata": {},
     "output_type": "execute_result"
    }
   ],
   "source": [
    "df.shape"
   ]
  },
  {
   "cell_type": "markdown",
   "metadata": {},
   "source": [
    "<a name = Section41></a>\n",
    "### **4.1 Data Description**\n",
    "\n",
    "- In this section we will get **information about the data** and see some observations."
   ]
  },
  {
   "cell_type": "code",
   "execution_count": 6,
   "metadata": {},
   "outputs": [
    {
     "data": {
      "text/html": [
       "<div>\n",
       "<style scoped>\n",
       "    .dataframe tbody tr th:only-of-type {\n",
       "        vertical-align: middle;\n",
       "    }\n",
       "\n",
       "    .dataframe tbody tr th {\n",
       "        vertical-align: top;\n",
       "    }\n",
       "\n",
       "    .dataframe thead th {\n",
       "        text-align: right;\n",
       "    }\n",
       "</style>\n",
       "<table border=\"1\" class=\"dataframe\">\n",
       "  <thead>\n",
       "    <tr style=\"text-align: right;\">\n",
       "      <th></th>\n",
       "      <th>Time</th>\n",
       "      <th>V1</th>\n",
       "      <th>V2</th>\n",
       "      <th>V3</th>\n",
       "      <th>V4</th>\n",
       "      <th>V5</th>\n",
       "      <th>V6</th>\n",
       "      <th>V7</th>\n",
       "      <th>V8</th>\n",
       "      <th>V9</th>\n",
       "      <th>V10</th>\n",
       "      <th>V11</th>\n",
       "      <th>V12</th>\n",
       "      <th>V13</th>\n",
       "      <th>V14</th>\n",
       "      <th>V15</th>\n",
       "      <th>V16</th>\n",
       "      <th>V17</th>\n",
       "      <th>V18</th>\n",
       "      <th>V19</th>\n",
       "      <th>V20</th>\n",
       "      <th>V21</th>\n",
       "      <th>V22</th>\n",
       "      <th>V23</th>\n",
       "      <th>V24</th>\n",
       "      <th>V25</th>\n",
       "      <th>V26</th>\n",
       "      <th>V27</th>\n",
       "      <th>V28</th>\n",
       "      <th>Amount</th>\n",
       "      <th>Class</th>\n",
       "    </tr>\n",
       "  </thead>\n",
       "  <tbody>\n",
       "    <tr>\n",
       "      <th>count</th>\n",
       "      <td>284807.00</td>\n",
       "      <td>284807.00</td>\n",
       "      <td>284807.00</td>\n",
       "      <td>284807.00</td>\n",
       "      <td>284807.00</td>\n",
       "      <td>284807.00</td>\n",
       "      <td>284807.00</td>\n",
       "      <td>284807.00</td>\n",
       "      <td>284807.00</td>\n",
       "      <td>284807.00</td>\n",
       "      <td>284807.00</td>\n",
       "      <td>284807.00</td>\n",
       "      <td>284807.00</td>\n",
       "      <td>284807.00</td>\n",
       "      <td>284807.00</td>\n",
       "      <td>284807.00</td>\n",
       "      <td>284807.00</td>\n",
       "      <td>284807.00</td>\n",
       "      <td>284807.00</td>\n",
       "      <td>284807.00</td>\n",
       "      <td>284807.00</td>\n",
       "      <td>284807.00</td>\n",
       "      <td>284807.00</td>\n",
       "      <td>284807.00</td>\n",
       "      <td>284807.00</td>\n",
       "      <td>284807.00</td>\n",
       "      <td>284807.00</td>\n",
       "      <td>284807.00</td>\n",
       "      <td>284807.00</td>\n",
       "      <td>284807.00</td>\n",
       "      <td>284807.00</td>\n",
       "    </tr>\n",
       "    <tr>\n",
       "      <th>mean</th>\n",
       "      <td>94813.86</td>\n",
       "      <td>0.00</td>\n",
       "      <td>0.00</td>\n",
       "      <td>-0.00</td>\n",
       "      <td>0.00</td>\n",
       "      <td>-0.00</td>\n",
       "      <td>0.00</td>\n",
       "      <td>-0.00</td>\n",
       "      <td>-0.00</td>\n",
       "      <td>-0.00</td>\n",
       "      <td>0.00</td>\n",
       "      <td>0.00</td>\n",
       "      <td>-0.00</td>\n",
       "      <td>0.00</td>\n",
       "      <td>0.00</td>\n",
       "      <td>0.00</td>\n",
       "      <td>0.00</td>\n",
       "      <td>-0.00</td>\n",
       "      <td>0.00</td>\n",
       "      <td>0.00</td>\n",
       "      <td>0.00</td>\n",
       "      <td>0.00</td>\n",
       "      <td>0.00</td>\n",
       "      <td>0.00</td>\n",
       "      <td>0.00</td>\n",
       "      <td>0.00</td>\n",
       "      <td>0.00</td>\n",
       "      <td>-0.00</td>\n",
       "      <td>-0.00</td>\n",
       "      <td>88.35</td>\n",
       "      <td>0.00</td>\n",
       "    </tr>\n",
       "    <tr>\n",
       "      <th>std</th>\n",
       "      <td>47488.15</td>\n",
       "      <td>1.96</td>\n",
       "      <td>1.65</td>\n",
       "      <td>1.52</td>\n",
       "      <td>1.42</td>\n",
       "      <td>1.38</td>\n",
       "      <td>1.33</td>\n",
       "      <td>1.24</td>\n",
       "      <td>1.19</td>\n",
       "      <td>1.10</td>\n",
       "      <td>1.09</td>\n",
       "      <td>1.02</td>\n",
       "      <td>1.00</td>\n",
       "      <td>1.00</td>\n",
       "      <td>0.96</td>\n",
       "      <td>0.92</td>\n",
       "      <td>0.88</td>\n",
       "      <td>0.85</td>\n",
       "      <td>0.84</td>\n",
       "      <td>0.81</td>\n",
       "      <td>0.77</td>\n",
       "      <td>0.73</td>\n",
       "      <td>0.73</td>\n",
       "      <td>0.62</td>\n",
       "      <td>0.61</td>\n",
       "      <td>0.52</td>\n",
       "      <td>0.48</td>\n",
       "      <td>0.40</td>\n",
       "      <td>0.33</td>\n",
       "      <td>250.12</td>\n",
       "      <td>0.04</td>\n",
       "    </tr>\n",
       "    <tr>\n",
       "      <th>min</th>\n",
       "      <td>0.00</td>\n",
       "      <td>-56.41</td>\n",
       "      <td>-72.72</td>\n",
       "      <td>-48.33</td>\n",
       "      <td>-5.68</td>\n",
       "      <td>-113.74</td>\n",
       "      <td>-26.16</td>\n",
       "      <td>-43.56</td>\n",
       "      <td>-73.22</td>\n",
       "      <td>-13.43</td>\n",
       "      <td>-24.59</td>\n",
       "      <td>-4.80</td>\n",
       "      <td>-18.68</td>\n",
       "      <td>-5.79</td>\n",
       "      <td>-19.21</td>\n",
       "      <td>-4.50</td>\n",
       "      <td>-14.13</td>\n",
       "      <td>-25.16</td>\n",
       "      <td>-9.50</td>\n",
       "      <td>-7.21</td>\n",
       "      <td>-54.50</td>\n",
       "      <td>-34.83</td>\n",
       "      <td>-10.93</td>\n",
       "      <td>-44.81</td>\n",
       "      <td>-2.84</td>\n",
       "      <td>-10.30</td>\n",
       "      <td>-2.60</td>\n",
       "      <td>-22.57</td>\n",
       "      <td>-15.43</td>\n",
       "      <td>0.00</td>\n",
       "      <td>0.00</td>\n",
       "    </tr>\n",
       "    <tr>\n",
       "      <th>25%</th>\n",
       "      <td>54201.50</td>\n",
       "      <td>-0.92</td>\n",
       "      <td>-0.60</td>\n",
       "      <td>-0.89</td>\n",
       "      <td>-0.85</td>\n",
       "      <td>-0.69</td>\n",
       "      <td>-0.77</td>\n",
       "      <td>-0.55</td>\n",
       "      <td>-0.21</td>\n",
       "      <td>-0.64</td>\n",
       "      <td>-0.54</td>\n",
       "      <td>-0.76</td>\n",
       "      <td>-0.41</td>\n",
       "      <td>-0.65</td>\n",
       "      <td>-0.43</td>\n",
       "      <td>-0.58</td>\n",
       "      <td>-0.47</td>\n",
       "      <td>-0.48</td>\n",
       "      <td>-0.50</td>\n",
       "      <td>-0.46</td>\n",
       "      <td>-0.21</td>\n",
       "      <td>-0.23</td>\n",
       "      <td>-0.54</td>\n",
       "      <td>-0.16</td>\n",
       "      <td>-0.35</td>\n",
       "      <td>-0.32</td>\n",
       "      <td>-0.33</td>\n",
       "      <td>-0.07</td>\n",
       "      <td>-0.05</td>\n",
       "      <td>5.60</td>\n",
       "      <td>0.00</td>\n",
       "    </tr>\n",
       "    <tr>\n",
       "      <th>50%</th>\n",
       "      <td>84692.00</td>\n",
       "      <td>0.02</td>\n",
       "      <td>0.07</td>\n",
       "      <td>0.18</td>\n",
       "      <td>-0.02</td>\n",
       "      <td>-0.05</td>\n",
       "      <td>-0.27</td>\n",
       "      <td>0.04</td>\n",
       "      <td>0.02</td>\n",
       "      <td>-0.05</td>\n",
       "      <td>-0.09</td>\n",
       "      <td>-0.03</td>\n",
       "      <td>0.14</td>\n",
       "      <td>-0.01</td>\n",
       "      <td>0.05</td>\n",
       "      <td>0.05</td>\n",
       "      <td>0.07</td>\n",
       "      <td>-0.07</td>\n",
       "      <td>-0.00</td>\n",
       "      <td>0.00</td>\n",
       "      <td>-0.06</td>\n",
       "      <td>-0.03</td>\n",
       "      <td>0.01</td>\n",
       "      <td>-0.01</td>\n",
       "      <td>0.04</td>\n",
       "      <td>0.02</td>\n",
       "      <td>-0.05</td>\n",
       "      <td>0.00</td>\n",
       "      <td>0.01</td>\n",
       "      <td>22.00</td>\n",
       "      <td>0.00</td>\n",
       "    </tr>\n",
       "    <tr>\n",
       "      <th>75%</th>\n",
       "      <td>139320.50</td>\n",
       "      <td>1.32</td>\n",
       "      <td>0.80</td>\n",
       "      <td>1.03</td>\n",
       "      <td>0.74</td>\n",
       "      <td>0.61</td>\n",
       "      <td>0.40</td>\n",
       "      <td>0.57</td>\n",
       "      <td>0.33</td>\n",
       "      <td>0.60</td>\n",
       "      <td>0.45</td>\n",
       "      <td>0.74</td>\n",
       "      <td>0.62</td>\n",
       "      <td>0.66</td>\n",
       "      <td>0.49</td>\n",
       "      <td>0.65</td>\n",
       "      <td>0.52</td>\n",
       "      <td>0.40</td>\n",
       "      <td>0.50</td>\n",
       "      <td>0.46</td>\n",
       "      <td>0.13</td>\n",
       "      <td>0.19</td>\n",
       "      <td>0.53</td>\n",
       "      <td>0.15</td>\n",
       "      <td>0.44</td>\n",
       "      <td>0.35</td>\n",
       "      <td>0.24</td>\n",
       "      <td>0.09</td>\n",
       "      <td>0.08</td>\n",
       "      <td>77.16</td>\n",
       "      <td>0.00</td>\n",
       "    </tr>\n",
       "    <tr>\n",
       "      <th>max</th>\n",
       "      <td>172792.00</td>\n",
       "      <td>2.45</td>\n",
       "      <td>22.06</td>\n",
       "      <td>9.38</td>\n",
       "      <td>16.88</td>\n",
       "      <td>34.80</td>\n",
       "      <td>73.30</td>\n",
       "      <td>120.59</td>\n",
       "      <td>20.01</td>\n",
       "      <td>15.59</td>\n",
       "      <td>23.75</td>\n",
       "      <td>12.02</td>\n",
       "      <td>7.85</td>\n",
       "      <td>7.13</td>\n",
       "      <td>10.53</td>\n",
       "      <td>8.88</td>\n",
       "      <td>17.32</td>\n",
       "      <td>9.25</td>\n",
       "      <td>5.04</td>\n",
       "      <td>5.59</td>\n",
       "      <td>39.42</td>\n",
       "      <td>27.20</td>\n",
       "      <td>10.50</td>\n",
       "      <td>22.53</td>\n",
       "      <td>4.58</td>\n",
       "      <td>7.52</td>\n",
       "      <td>3.52</td>\n",
       "      <td>31.61</td>\n",
       "      <td>33.85</td>\n",
       "      <td>25691.16</td>\n",
       "      <td>1.00</td>\n",
       "    </tr>\n",
       "  </tbody>\n",
       "</table>\n",
       "</div>"
      ],
      "text/plain": [
       "           Time        V1        V2        V3        V4        V5        V6  \\\n",
       "count 284807.00 284807.00 284807.00 284807.00 284807.00 284807.00 284807.00   \n",
       "mean   94813.86      0.00      0.00     -0.00      0.00     -0.00      0.00   \n",
       "std    47488.15      1.96      1.65      1.52      1.42      1.38      1.33   \n",
       "min        0.00    -56.41    -72.72    -48.33     -5.68   -113.74    -26.16   \n",
       "25%    54201.50     -0.92     -0.60     -0.89     -0.85     -0.69     -0.77   \n",
       "50%    84692.00      0.02      0.07      0.18     -0.02     -0.05     -0.27   \n",
       "75%   139320.50      1.32      0.80      1.03      0.74      0.61      0.40   \n",
       "max   172792.00      2.45     22.06      9.38     16.88     34.80     73.30   \n",
       "\n",
       "             V7        V8        V9       V10       V11       V12       V13  \\\n",
       "count 284807.00 284807.00 284807.00 284807.00 284807.00 284807.00 284807.00   \n",
       "mean      -0.00     -0.00     -0.00      0.00      0.00     -0.00      0.00   \n",
       "std        1.24      1.19      1.10      1.09      1.02      1.00      1.00   \n",
       "min      -43.56    -73.22    -13.43    -24.59     -4.80    -18.68     -5.79   \n",
       "25%       -0.55     -0.21     -0.64     -0.54     -0.76     -0.41     -0.65   \n",
       "50%        0.04      0.02     -0.05     -0.09     -0.03      0.14     -0.01   \n",
       "75%        0.57      0.33      0.60      0.45      0.74      0.62      0.66   \n",
       "max      120.59     20.01     15.59     23.75     12.02      7.85      7.13   \n",
       "\n",
       "            V14       V15       V16       V17       V18       V19       V20  \\\n",
       "count 284807.00 284807.00 284807.00 284807.00 284807.00 284807.00 284807.00   \n",
       "mean       0.00      0.00      0.00     -0.00      0.00      0.00      0.00   \n",
       "std        0.96      0.92      0.88      0.85      0.84      0.81      0.77   \n",
       "min      -19.21     -4.50    -14.13    -25.16     -9.50     -7.21    -54.50   \n",
       "25%       -0.43     -0.58     -0.47     -0.48     -0.50     -0.46     -0.21   \n",
       "50%        0.05      0.05      0.07     -0.07     -0.00      0.00     -0.06   \n",
       "75%        0.49      0.65      0.52      0.40      0.50      0.46      0.13   \n",
       "max       10.53      8.88     17.32      9.25      5.04      5.59     39.42   \n",
       "\n",
       "            V21       V22       V23       V24       V25       V26       V27  \\\n",
       "count 284807.00 284807.00 284807.00 284807.00 284807.00 284807.00 284807.00   \n",
       "mean       0.00      0.00      0.00      0.00      0.00      0.00     -0.00   \n",
       "std        0.73      0.73      0.62      0.61      0.52      0.48      0.40   \n",
       "min      -34.83    -10.93    -44.81     -2.84    -10.30     -2.60    -22.57   \n",
       "25%       -0.23     -0.54     -0.16     -0.35     -0.32     -0.33     -0.07   \n",
       "50%       -0.03      0.01     -0.01      0.04      0.02     -0.05      0.00   \n",
       "75%        0.19      0.53      0.15      0.44      0.35      0.24      0.09   \n",
       "max       27.20     10.50     22.53      4.58      7.52      3.52     31.61   \n",
       "\n",
       "            V28    Amount     Class  \n",
       "count 284807.00 284807.00 284807.00  \n",
       "mean      -0.00     88.35      0.00  \n",
       "std        0.33    250.12      0.04  \n",
       "min      -15.43      0.00      0.00  \n",
       "25%       -0.05      5.60      0.00  \n",
       "50%        0.01     22.00      0.00  \n",
       "75%        0.08     77.16      0.00  \n",
       "max       33.85  25691.16      1.00  "
      ]
     },
     "execution_count": 6,
     "metadata": {},
     "output_type": "execute_result"
    }
   ],
   "source": [
    "df.describe()"
   ]
  },
  {
   "attachments": {},
   "cell_type": "markdown",
   "metadata": {},
   "source": [
    "**Observation:**\n",
    "\n",
    "- All fetaures V1 thru V28 are already scaled for the sake of anonymity.\n",
    "\n",
    "- **75%** of **Amount** have <= $\\$$78 while **50%** and **75%** of  Amount records  have  <= $\\$$22 and $\\$$6.\n"
   ]
  },
  {
   "cell_type": "markdown",
   "metadata": {},
   "source": [
    "<a name = Section42></a>\n",
    "### **4.2 Data Information**\n",
    "\n",
    "- In this section we will see the **information about the types of features**."
   ]
  },
  {
   "cell_type": "code",
   "execution_count": 7,
   "metadata": {},
   "outputs": [
    {
     "name": "stdout",
     "output_type": "stream",
     "text": [
      "<class 'pandas.core.frame.DataFrame'>\n",
      "RangeIndex: 284807 entries, 0 to 284806\n",
      "Data columns (total 31 columns):\n",
      " #   Column  Non-Null Count   Dtype  \n",
      "---  ------  --------------   -----  \n",
      " 0   Time    284807 non-null  float64\n",
      " 1   V1      284807 non-null  float64\n",
      " 2   V2      284807 non-null  float64\n",
      " 3   V3      284807 non-null  float64\n",
      " 4   V4      284807 non-null  float64\n",
      " 5   V5      284807 non-null  float64\n",
      " 6   V6      284807 non-null  float64\n",
      " 7   V7      284807 non-null  float64\n",
      " 8   V8      284807 non-null  float64\n",
      " 9   V9      284807 non-null  float64\n",
      " 10  V10     284807 non-null  float64\n",
      " 11  V11     284807 non-null  float64\n",
      " 12  V12     284807 non-null  float64\n",
      " 13  V13     284807 non-null  float64\n",
      " 14  V14     284807 non-null  float64\n",
      " 15  V15     284807 non-null  float64\n",
      " 16  V16     284807 non-null  float64\n",
      " 17  V17     284807 non-null  float64\n",
      " 18  V18     284807 non-null  float64\n",
      " 19  V19     284807 non-null  float64\n",
      " 20  V20     284807 non-null  float64\n",
      " 21  V21     284807 non-null  float64\n",
      " 22  V22     284807 non-null  float64\n",
      " 23  V23     284807 non-null  float64\n",
      " 24  V24     284807 non-null  float64\n",
      " 25  V25     284807 non-null  float64\n",
      " 26  V26     284807 non-null  float64\n",
      " 27  V27     284807 non-null  float64\n",
      " 28  V28     284807 non-null  float64\n",
      " 29  Amount  284807 non-null  float64\n",
      " 30  Class   284807 non-null  int64  \n",
      "dtypes: float64(30), int64(1)\n",
      "memory usage: 67.4 MB\n"
     ]
    }
   ],
   "source": [
    "df.info()"
   ]
  },
  {
   "cell_type": "markdown",
   "metadata": {},
   "source": [
    "**Observation:**\n",
    "\n",
    "- We can observer that there is **no null data present**.\n",
    "\n",
    "- Addtionally, all **features** seems to have **correct data type**."
   ]
  },
  {
   "cell_type": "markdown",
   "metadata": {},
   "source": [
    "<a name = Section5></a>\n",
    "\n",
    "---\n",
    "# **5. Data Pre-Processing**\n",
    "---"
   ]
  },
  {
   "cell_type": "code",
   "execution_count": 8,
   "metadata": {},
   "outputs": [
    {
     "data": {
      "text/plain": [
       "0    284315\n",
       "1       492\n",
       "Name: Class, dtype: int64"
      ]
     },
     "execution_count": 8,
     "metadata": {},
     "output_type": "execute_result"
    }
   ],
   "source": [
    "df['Class'].value_counts()"
   ]
  },
  {
   "cell_type": "code",
   "execution_count": 5,
   "metadata": {},
   "outputs": [],
   "source": [
    "df.drop_duplicates(inplace=True)"
   ]
  },
  {
   "cell_type": "code",
   "execution_count": 6,
   "metadata": {},
   "outputs": [
    {
     "data": {
      "text/plain": [
       "(283726, 31)"
      ]
     },
     "execution_count": 6,
     "metadata": {},
     "output_type": "execute_result"
    }
   ],
   "source": [
    "df.shape"
   ]
  },
  {
   "cell_type": "markdown",
   "metadata": {},
   "source": [
    "#### Observed 589 duplicate rows. We can clearly see the row count reduced to 283726 after removing duplicates."
   ]
  },
  {
   "cell_type": "markdown",
   "metadata": {},
   "source": [
    "<a name = Section6></a>\n",
    "\n",
    "---\n",
    "# **6. Post Data Processing & Feature Selection**\n",
    "---\n",
    "\n",
    "- In this section, we will perform **encoding** over **categorical** features and **feed** the result to the model.\n",
    "\n",
    "- **Random Forest** will then **identify important features** for our model **using some threshold**.\n",
    "\n",
    "- This threshold is **used over** the **information gain** which results in **reduction in impurity**.\n",
    "\n",
    "- And **finally** we will **split** our **data** for the **model development**."
   ]
  },
  {
   "cell_type": "code",
   "execution_count": 12,
   "metadata": {},
   "outputs": [
    {
     "data": {
      "text/plain": [
       "0    283253\n",
       "1       473\n",
       "Name: Class, dtype: int64"
      ]
     },
     "execution_count": 12,
     "metadata": {},
     "output_type": "execute_result"
    }
   ],
   "source": [
    "df['Class'].value_counts()"
   ]
  },
  {
   "cell_type": "code",
   "execution_count": 11,
   "metadata": {},
   "outputs": [
    {
     "name": "stdout",
     "output_type": "stream",
     "text": [
      "No Frauds 99.83 % of the dataset\n",
      "Frauds 0.17 % of the dataset\n"
     ]
    }
   ],
   "source": [
    "print('No Frauds', round(df['Class'].value_counts()[0]/len(df) * 100,2), '% of the dataset')\n",
    "print('Frauds', round(df['Class'].value_counts()[1]/len(df) * 100,2), '% of the dataset')"
   ]
  },
  {
   "cell_type": "markdown",
   "metadata": {},
   "source": [
    "#### The Fraud class is relatively small. The means imbalanced set.\n",
    "\n",
    "#### There are no \"Null\" values, so we don't have to work on ways to replace values.\n",
    "#### Most of the transactions were Non-Fraud (99.83%) of the time, while Fraud transactions occurs (0.17%) of the time in the dataframe."
   ]
  },
  {
   "cell_type": "code",
   "execution_count": 14,
   "metadata": {},
   "outputs": [
    {
     "name": "stderr",
     "output_type": "stream",
     "text": [
      "C:\\Users\\amarc\\anaconda3\\lib\\site-packages\\seaborn\\_decorators.py:43: FutureWarning: Pass the following variable as a keyword arg: x. From version 0.12, the only valid positional argument will be `data`, and passing other arguments without an explicit keyword will result in an error or misinterpretation.\n",
      "  FutureWarning\n"
     ]
    },
    {
     "data": {
      "text/plain": [
       "Text(0.5, 1.0, 'Class Distributions \\n (0: No Fraud || 1: Fraud)')"
      ]
     },
     "execution_count": 14,
     "metadata": {},
     "output_type": "execute_result"
    },
    {
     "data": {
      "image/png": "[encoded data removed]",
      "text/plain": [
       "<Figure size 432x288 with 1 Axes>"
      ]
     },
     "metadata": {
      "needs_background": "light"
     },
     "output_type": "display_data"
    }
   ],
   "source": [
    "sns.countplot('Class', data=df)\n",
    "plt.title('Class Distributions \\n (0: No Fraud || 1: Fraud)', fontsize=14)"
   ]
  },
  {
   "cell_type": "code",
   "execution_count": 20,
   "metadata": {},
   "outputs": [
    {
     "data": {
      "image/png": "[encoded data removed]",
      "text/plain": [
       "<Figure size 1296x288 with 2 Axes>"
      ]
     },
     "metadata": {
      "needs_background": "light"
     },
     "output_type": "display_data"
    }
   ],
   "source": [
    "fig, ax = plt.subplots(1, 2, figsize=(18,4))\n",
    "\n",
    "amount_val = df['Amount'].values\n",
    "time_val = df['Time'].values\n",
    "\n",
    "sns.distplot(amount_val, ax=ax[0], color='r')\n",
    "ax[0].set_title('Distribution of Transaction Amount', fontsize=14)\n",
    "ax[0].set_xlim([min(amount_val), max(amount_val)])\n",
    "\n",
    "sns.distplot(time_val, ax=ax[1], color='b')\n",
    "ax[1].set_title('Distribution of Transaction Time', fontsize=14)\n",
    "ax[1].set_xlim([min(time_val), max(time_val)])\n",
    "\n",
    "\n",
    "\n",
    "plt.show()"
   ]
  },
  {
   "cell_type": "markdown",
   "metadata": {},
   "source": [
    "<a name = Section61></a>\n",
    "### **6.1 Feature Selection**\n",
    "\n",
    "- Now in the real world, it is very rare that all the **features** are **important** while developing the **model**.\n",
    "\n",
    "- Instead, we analyze the **impact** of **input** feature values over the **target** feature values.\n",
    "\n",
    "- It is either done by performing **statistical tests** (Pearson, ANOVA, Chi-Square) or by using **Random Forest**.\n",
    "\n",
    "- Random forests are one of the most **popular** machine learning **algorithms**.\n",
    "\n",
    "- The provide a good predictive performance, low overfitting, and easy interpretability.\n",
    "\n",
    "- This **interpretability** is derived from the importance of each feature on the tree decision evaluated the **reduction in impurity**.\n",
    "\n",
    "- In other words, it is **easy** to **compute** how much each feature is **contributing** to the decision.\n",
    "\n",
    "- We will implement **SelectFromModel()** available in Sklearn which uses the base estimator to identify important features.\n",
    "\n",
    "- The importance of a feature is determined based on **threshold** (a measure to calculate feature importance)."
   ]
  },
  {
   "cell_type": "code",
   "execution_count": 7,
   "metadata": {},
   "outputs": [],
   "source": [
    "X = df.drop('Class', axis=1)\n",
    "y = df['Class']"
   ]
  },
  {
   "cell_type": "code",
   "execution_count": 13,
   "metadata": {},
   "outputs": [
    {
     "name": "stdout",
     "output_type": "stream",
     "text": [
      "Total Features Selected are 7\n",
      "Threshold set by Model: 0.03\n",
      "Important Features: ['V9', 'V10', 'V11', 'V12', 'V14', 'V16', 'V17']\n"
     ]
    }
   ],
   "source": [
    "selector = SelectFromModel(RandomForestClassifier(n_estimators = 100, random_state = 42, n_jobs = -1))\n",
    "selector.fit(X, y)\n",
    "\n",
    "# Extracting list of important features\n",
    "selected_feat = X.columns[(selector.get_support())].tolist()\n",
    "\n",
    "# Show total number of important features extracted by the model\n",
    "print('Total Features Selected are', len(selected_feat))\n",
    "\n",
    "# Estimated by taking mean(default) of feature importance\n",
    "print('Threshold set by Model:', np.round(selector.threshold_, decimals = 2))\n",
    "print('Important Features:', selected_feat)"
   ]
  },
  {
   "cell_type": "markdown",
   "metadata": {},
   "source": [
    "**Visualzation of Important Features:**\n",
    "\n",
    "- Below features are plotted against their relative importance (in %age),  of each feature."
   ]
  },
  {
   "cell_type": "code",
   "execution_count": 18,
   "metadata": {},
   "outputs": [
    {
     "name": "stderr",
     "output_type": "stream",
     "text": [
      "C:\\Users\\amarc\\anaconda3\\lib\\site-packages\\sklearn\\base.py:213: FutureWarning: From version 0.24, get_params will raise an AttributeError if a parameter cannot be retrieved as an instance attribute. Previously it would return None.\n",
      "  FutureWarning)\n"
     ]
    },
    {
     "data": {
      "image/png": "[encoded data removed]",
      "text/plain": [
       "<Figure size 1080x576 with 1 Axes>"
      ]
     },
     "metadata": {},
     "output_type": "display_data"
    }
   ],
   "source": [
    "figure = plt.figure(figsize = [15, 8])\n",
    "\n",
    "# If you don't want relative importance, use relative = False in below method\n",
    "viz = FeatureImportances(selector.estimator, relative = False)\n",
    "viz.fit(X, y)\n",
    "\n",
    "plt.xlabel('Relative Importance', size = 14)\n",
    "plt.ylabel('Features', size = 14)\n",
    "plt.title(label = 'Feature Importances', size = 16)\n",
    "plt.show()"
   ]
  },
  {
   "cell_type": "markdown",
   "metadata": {},
   "source": [
    "<a name = Section62></a>\n",
    "### **6.2 Feature Scaling**"
   ]
  },
  {
   "cell_type": "code",
   "execution_count": 8,
   "metadata": {},
   "outputs": [],
   "source": [
    "# Since most of our data has already been scaled we should scale the columns that are left to scale (Amount and Time)\n",
    "from sklearn.preprocessing import StandardScaler, RobustScaler\n",
    "\n",
    "# RobustScaler is less prone to outliers.\n",
    "\n",
    "std_scaler = StandardScaler()\n",
    "rob_scaler = RobustScaler()\n",
    "\n",
    "df['scaled_amount'] = rob_scaler.fit_transform(df['Amount'].values.reshape(-1,1))\n",
    "df['scaled_time'] = rob_scaler.fit_transform(df['Time'].values.reshape(-1,1))\n",
    "\n",
    "df.drop(['Time','Amount'], axis=1, inplace=True)"
   ]
  },
  {
   "cell_type": "code",
   "execution_count": 9,
   "metadata": {
    "scrolled": true
   },
   "outputs": [
    {
     "name": "stdout",
     "output_type": "stream",
     "text": [
      "<class 'pandas.core.frame.DataFrame'>\n",
      "Int64Index: 283726 entries, 0 to 284806\n",
      "Data columns (total 31 columns):\n",
      " #   Column         Non-Null Count   Dtype  \n",
      "---  ------         --------------   -----  \n",
      " 0   V1             283726 non-null  float64\n",
      " 1   V2             283726 non-null  float64\n",
      " 2   V3             283726 non-null  float64\n",
      " 3   V4             283726 non-null  float64\n",
      " 4   V5             283726 non-null  float64\n",
      " 5   V6             283726 non-null  float64\n",
      " 6   V7             283726 non-null  float64\n",
      " 7   V8             283726 non-null  float64\n",
      " 8   V9             283726 non-null  float64\n",
      " 9   V10            283726 non-null  float64\n",
      " 10  V11            283726 non-null  float64\n",
      " 11  V12            283726 non-null  float64\n",
      " 12  V13            283726 non-null  float64\n",
      " 13  V14            283726 non-null  float64\n",
      " 14  V15            283726 non-null  float64\n",
      " 15  V16            283726 non-null  float64\n",
      " 16  V17            283726 non-null  float64\n",
      " 17  V18            283726 non-null  float64\n",
      " 18  V19            283726 non-null  float64\n",
      " 19  V20            283726 non-null  float64\n",
      " 20  V21            283726 non-null  float64\n",
      " 21  V22            283726 non-null  float64\n",
      " 22  V23            283726 non-null  float64\n",
      " 23  V24            283726 non-null  float64\n",
      " 24  V25            283726 non-null  float64\n",
      " 25  V26            283726 non-null  float64\n",
      " 26  V27            283726 non-null  float64\n",
      " 27  V28            283726 non-null  float64\n",
      " 28  Class          283726 non-null  int64  \n",
      " 29  scaled_amount  283726 non-null  float64\n",
      " 30  scaled_time    283726 non-null  float64\n",
      "dtypes: float64(30), int64(1)\n",
      "memory usage: 69.3 MB\n"
     ]
    }
   ],
   "source": [
    "df.info()"
   ]
  },
  {
   "cell_type": "markdown",
   "metadata": {},
   "source": [
    "<a name = Section63></a>\n",
    "### **6.3 Data Preparation**\n",
    "\n",
    "- Now we will **split** our **data** in **training** and **testing** part for further development.\n",
    "\n",
    "### Splitting the Data (Original DataFrame)\n",
    "#### Before proceeding with the Sampling technique we have to separate the orginal dataframe. We want to test our models on the original testing set not on the testing set created by any sampling techniques. The main goal is to fit the model either with the dataframes that were undersample and oversample (in order for our models to detect the patterns), and test it on the original testing set."
   ]
  },
  {
   "cell_type": "code",
   "execution_count": 10,
   "metadata": {},
   "outputs": [],
   "source": [
    "from sklearn.model_selection import train_test_split                # To perform train, test and split over the data\n",
    "X_train, X_test, y_train, y_test = train_test_split(X,y,test_size=0.2, random_state=42, stratify=y)"
   ]
  },
  {
   "cell_type": "code",
   "execution_count": 10,
   "metadata": {},
   "outputs": [
    {
     "data": {
      "text/plain": [
       "0.7999971803782523"
      ]
     },
     "execution_count": 10,
     "metadata": {},
     "output_type": "execute_result"
    }
   ],
   "source": [
    "X_train.shape[0]/len(X)"
   ]
  },
  {
   "cell_type": "code",
   "execution_count": 11,
   "metadata": {},
   "outputs": [
    {
     "name": "stdout",
     "output_type": "stream",
     "text": [
      "Before OverSampling, counts of label '1': 378\n",
      "Before OverSampling, counts of label '0': 226602 \n",
      "\n",
      "After OverSampling, the shape of train_X: (453204, 30)\n",
      "After OverSampling, the shape of train_y: (453204,) \n",
      "\n",
      "After OverSampling, counts of label '1': 226602\n",
      "After OverSampling, counts of label '0': 226602\n"
     ]
    }
   ],
   "source": [
    "\n",
    "print(\"Before OverSampling, counts of label '1': {}\".format(sum(y_train == 1))) \n",
    "print(\"Before OverSampling, counts of label '0': {} \\n\".format(sum(y_train == 0))) \n",
    "\n",
    "# import SMOTE module from imblearn library \n",
    "# pip install imblearn (if you don't have imblearn in your system) \n",
    "from imblearn.over_sampling import SMOTE \n",
    "sm = SMOTE(random_state = 2) \n",
    "X_train_res, y_train_res = sm.fit_sample(X_train, y_train.ravel()) \n",
    "\n",
    "print('After OverSampling, the shape of train_X: {}'.format(X_train_res.shape)) \n",
    "print('After OverSampling, the shape of train_y: {} \\n'.format(y_train_res.shape)) \n",
    "\n",
    "print(\"After OverSampling, counts of label '1': {}\".format(sum(y_train_res == 1))) \n",
    "print(\"After OverSampling, counts of label '0': {}\".format(sum(y_train_res == 0))) \n"
   ]
  },
  {
   "cell_type": "markdown",
   "metadata": {},
   "source": [
    "#### SMOTE Algorithm has oversampled the minority instances and made it equal to majority class. Both categories have equal amount of records. More specifically, the minority class has been increased to the total number of majority class.\n"
   ]
  },
  {
   "cell_type": "markdown",
   "metadata": {},
   "source": [
    "<a name = Section7></a>\n",
    "\n",
    "---\n",
    "# **7. Model Development & Evaluation**\n",
    "---\n",
    "\n",
    "- In this section we will develop Ensemble classifier with the help of different estimators such as:\n",
    "  - Logistic Regression\n",
    "  - K Nearest Neighbor Classifier\n",
    "  - Random Forest Classifier\n",
    "  - Gradient Boosting Classifier\n",
    "\n",
    "- For estimating the **performance** of the **model** we will be using **accuracy** as a **metric**."
   ]
  },
  {
   "cell_type": "markdown",
   "metadata": {},
   "source": [
    "#### Decision Tree classifier using imbalanced train data"
   ]
  },
  {
   "cell_type": "code",
   "execution_count": 22,
   "metadata": {},
   "outputs": [
    {
     "name": "stdout",
     "output_type": "stream",
     "text": [
      "Accuracy of Decision Tree classifier is 0.9990307686885419\n"
     ]
    }
   ],
   "source": [
    "dclf_imb=DecisionTreeClassifier()\n",
    "dclf_imb.fit(X_train,y_train)\n",
    "y_pred_imb=dclf_imb.predict(X_test)\n",
    "\n",
    "print(\"Accuracy of Decision Tree classifier is {0}\".format(accuracy_score(y_test, y_pred_imb)))"
   ]
  },
  {
   "cell_type": "code",
   "execution_count": 23,
   "metadata": {},
   "outputs": [
    {
     "name": "stdout",
     "output_type": "stream",
     "text": [
      "              precision    recall  f1-score   support\n",
      "\n",
      "           0       1.00      1.00      1.00     56651\n",
      "           1       0.72      0.68      0.70        95\n",
      "\n",
      "    accuracy                           1.00     56746\n",
      "   macro avg       0.86      0.84      0.85     56746\n",
      "weighted avg       1.00      1.00      1.00     56746\n",
      "\n"
     ]
    }
   ],
   "source": [
    "print(classification_report(y_test, y_pred_imb))"
   ]
  },
  {
   "cell_type": "markdown",
   "metadata": {},
   "source": [
    "#### As the data set is imbalanced, it could not get great Recall score. It clearly shows 0.68 for Class 1.\n",
    "\n",
    "#### Now, lets try using the [Over sampling] smote data set using the same model"
   ]
  },
  {
   "cell_type": "code",
   "execution_count": 33,
   "metadata": {},
   "outputs": [
    {
     "name": "stdout",
     "output_type": "stream",
     "text": [
      "Accuracy of Decision Tree classifier is 0.9977972015648681\n"
     ]
    }
   ],
   "source": [
    "dclf_smt=DecisionTreeClassifier()\n",
    "dclf_smt.fit(X_train_res,y_train_res)\n",
    "y_pred_smt=dclf_smt.predict(X_test)\n",
    "\n",
    "print(\"Accuracy of Decision Tree classifier is {0}\".format(accuracy_score(y_test, y_pred_smt)))"
   ]
  },
  {
   "cell_type": "code",
   "execution_count": 34,
   "metadata": {},
   "outputs": [
    {
     "name": "stdout",
     "output_type": "stream",
     "text": [
      "              precision    recall  f1-score   support\n",
      "\n",
      "           0       1.00      1.00      1.00     56651\n",
      "           1       0.41      0.71      0.52        95\n",
      "\n",
      "    accuracy                           1.00     56746\n",
      "   macro avg       0.70      0.85      0.76     56746\n",
      "weighted avg       1.00      1.00      1.00     56746\n",
      "\n"
     ]
    }
   ],
   "source": [
    "print(classification_report(y_test, y_pred_smt))"
   ]
  },
  {
   "cell_type": "markdown",
   "metadata": {},
   "source": [
    "#### With over sampled Data set, thre is no improvement of recall score. \n",
    "\n",
    "#### Let's try an Ensemble technique and observe Recall score"
   ]
  },
  {
   "cell_type": "code",
   "execution_count": 13,
   "metadata": {},
   "outputs": [
    {
     "name": "stdout",
     "output_type": "stream",
     "text": [
      "Accuracy of Bagging classifier is 0.9791350932224298\n"
     ]
    }
   ],
   "source": [
    "from sklearn.ensemble import BaggingClassifier\n",
    "from sklearn.tree import DecisionTreeClassifier\n",
    "\n",
    "bag_clf = BaggingClassifier(\n",
    "    DecisionTreeClassifier(), n_estimators=500,\n",
    "    max_samples=100, bootstrap=True, n_jobs=-1)\n",
    "bag_clf.fit(X_train_res, y_train_res)\n",
    "y_pred = bag_clf.predict(X_test)\n",
    "\n",
    "print(\"Accuracy of Bagging classifier is {0}\".format(accuracy_score(y_test, y_pred)))"
   ]
  },
  {
   "cell_type": "code",
   "execution_count": 14,
   "metadata": {},
   "outputs": [
    {
     "name": "stdout",
     "output_type": "stream",
     "text": [
      "              precision    recall  f1-score   support\n",
      "\n",
      "           0       1.00      0.98      0.99     56651\n",
      "           1       0.06      0.84      0.12        95\n",
      "\n",
      "    accuracy                           0.98     56746\n",
      "   macro avg       0.53      0.91      0.55     56746\n",
      "weighted avg       1.00      0.98      0.99     56746\n",
      "\n"
     ]
    }
   ],
   "source": [
    "print(classification_report(y_test, y_pred))"
   ]
  },
  {
   "cell_type": "markdown",
   "metadata": {},
   "source": [
    "#### Recall score jumped from 0.68 to 0.84 with Bagging on Base estimator as Decision Tree. "
   ]
  },
  {
   "cell_type": "markdown",
   "metadata": {},
   "source": [
    "#### Now, lets try the smote data set with Logistic Regression."
   ]
  },
  {
   "cell_type": "code",
   "execution_count": 29,
   "metadata": {},
   "outputs": [],
   "source": [
    "lr = LogisticRegression()\n",
    "lr.fit(X_train_res, y_train_res)\n",
    "predict_lr = lr.predict(X_test)"
   ]
  },
  {
   "cell_type": "code",
   "execution_count": 30,
   "metadata": {},
   "outputs": [
    {
     "name": "stdout",
     "output_type": "stream",
     "text": [
      "              precision    recall  f1-score   support\n",
      "\n",
      "           0       1.00      0.98      0.99     56651\n",
      "           1       0.07      0.88      0.14        95\n",
      "\n",
      "    accuracy                           0.98     56746\n",
      "   macro avg       0.54      0.93      0.56     56746\n",
      "weighted avg       1.00      0.98      0.99     56746\n",
      "\n"
     ]
    }
   ],
   "source": [
    "print(classification_report(y_test, predict_lr))"
   ]
  },
  {
   "cell_type": "markdown",
   "metadata": {},
   "source": [
    "#### With over sampled Data set, we see an improvement of 0.2% [compared to imbalanced data set]  in recall and hitting 0.88%"
   ]
  },
  {
   "cell_type": "code",
   "execution_count": 15,
   "metadata": {},
   "outputs": [
    {
     "data": {
      "text/plain": [
       "VotingClassifier(estimators=[('lr', LogisticRegression()),\n",
       "                             ('rf', RandomForestClassifier()),\n",
       "                             ('knn', KNeighborsClassifier(n_jobs=-1)),\n",
       "                             ('bg_clf',\n",
       "                              BaggingClassifier(base_estimator=DecisionTreeClassifier(),\n",
       "                                                max_samples=100,\n",
       "                                                n_estimators=500, n_jobs=-1))])"
      ]
     },
     "execution_count": 15,
     "metadata": {},
     "output_type": "execute_result"
    }
   ],
   "source": [
    "from sklearn.ensemble import VotingClassifier\n",
    "log_clf = LogisticRegression()\n",
    "rnd_clf = RandomForestClassifier()\n",
    "knn_clf = KNeighborsClassifier(n_jobs=-1)\n",
    "\n",
    "# here we are using hard voting\n",
    "voting_clf = VotingClassifier(\n",
    "    estimators=[('lr', log_clf), ('rf', rnd_clf), ('knn', knn_clf), ('bg_clf', bag_clf)],\n",
    "    voting='hard')\n",
    "voting_clf.fit(X_train_res, y_train_res)"
   ]
  },
  {
   "cell_type": "markdown",
   "metadata": {},
   "source": [
    "#### Classification report of Voting Classifier is as below :"
   ]
  },
  {
   "cell_type": "code",
   "execution_count": 18,
   "metadata": {},
   "outputs": [
    {
     "name": "stdout",
     "output_type": "stream",
     "text": [
      "              precision    recall  f1-score   support\n",
      "\n",
      "           0       1.00      1.00      1.00     56651\n",
      "           1       0.63      0.78      0.69        95\n",
      "\n",
      "    accuracy                           1.00     56746\n",
      "   macro avg       0.81      0.89      0.85     56746\n",
      "weighted avg       1.00      1.00      1.00     56746\n",
      "\n"
     ]
    }
   ],
   "source": [
    "pred_vclf=voting_clf.predict(X_test)\n",
    "print(classification_report(y_test, pred_vclf))"
   ]
  },
  {
   "cell_type": "markdown",
   "metadata": {},
   "source": [
    "#### Recall score improved from 0.68 to 0.78 with Voting Classifier"
   ]
  },
  {
   "cell_type": "code",
   "execution_count": 21,
   "metadata": {},
   "outputs": [
    {
     "name": "stdout",
     "output_type": "stream",
     "text": [
      "              precision    recall  f1-score   support\n",
      "\n",
      "           0       1.00      0.95      0.97     56651\n",
      "           1       0.01      0.42      0.02        95\n",
      "\n",
      "    accuracy                           0.94     56746\n",
      "   macro avg       0.51      0.68      0.50     56746\n",
      "weighted avg       1.00      0.94      0.97     56746\n",
      "\n"
     ]
    }
   ],
   "source": [
    "knn_clf.fit(X_train_res, y_train_res)\n",
    "pred_knn=knn_clf.predict(X_test)\n",
    "print(classification_report(y_test, pred_knn))"
   ]
  },
  {
   "cell_type": "markdown",
   "metadata": {},
   "source": [
    "<a name = Section8></a>\n",
    "\n",
    "---\n",
    "# **8. Conclusion**\n",
    "---\n",
    "\n",
    "- We **studied** the **characteristics** and **distribution** of data in brief.\n",
    "\n",
    "- We investigated in-depth the **features** which to **retain** and which to **discard**.\n",
    "\n",
    "- We performed **model development** by using a ensemble techniques of a variety of algorithms.\n",
    "\n",
    "- We observed **better results** as we started experimenting with different classifiers.\n",
    "\n",
    "- This model will **help** the **company** in **saving** lot of **resources** with better recall score of 0.88 where there is less False Positives.\n"
   ]
  },
  {
   "cell_type": "code",
   "execution_count": 35,
   "metadata": {},
   "outputs": [
    {
     "name": "stdout",
     "output_type": "stream",
     "text": [
      "Recall score for KNeighborsClassifier 0.42105263157894735\n",
      "Recall score for VotingClassifier 0.7789473684210526\n",
      "Recall score for LogisticRegression 0.8842105263157894\n",
      "Recall score for BaggingClassifier 0.8421052631578947\n",
      "Recall score for DecisionTreeClassifier 0.7052631578947368\n"
     ]
    }
   ],
   "source": [
    "print(\"Recall score for \" + knn_clf.__class__.__name__,  recall_score(y_test, pred_knn))\n",
    "print(\"Recall score for \" + voting_clf.__class__.__name__,  recall_score(y_test, pred_vclf))\n",
    "print(\"Recall score for \" + lr.__class__.__name__,  recall_score(y_test, predict_lr))\n",
    "print(\"Recall score for \" + bag_clf.__class__.__name__,  recall_score(y_test, y_pred))\n",
    "print(\"Recall score for \" + dclf_smt.__class__.__name__,  recall_score(y_test, y_pred_smt))"
   ]
  }
 ],
 "metadata": {
  "kernelspec": {
   "display_name": "Python 3",
   "language": "python",
   "name": "python3"
  },
  "language_info": {
   "codemirror_mode": {
    "name": "ipython",
    "version": 3
   },
   "file_extension": ".py",
   "mimetype": "text/x-python",
   "name": "python",
   "nbconvert_exporter": "python",
   "pygments_lexer": "ipython3",
   "version": "3.7.6"
  }
 },
 "nbformat": 4,
 "nbformat_minor": 4
}
